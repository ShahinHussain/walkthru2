{
 "cells": [
  {
   "cell_type": "markdown",
   "id": "e85f9677-f791-4ad7-942b-c6dadbf3ca06",
   "metadata": {},
   "source": [
    "# hello\n"
   ]
  },
  {
   "cell_type": "markdown",
   "id": "0cf90ea7-7dbd-4697-96f5-194c4f99647b",
   "metadata": {},
   "source": [
    "Here is how to calculate `10 * 10`"
   ]
  },
  {
   "cell_type": "code",
   "execution_count": 1,
   "id": "4eb96113-debf-4b9f-b1e1-320aad6dc71e",
   "metadata": {},
   "outputs": [
    {
     "data": {
      "text/plain": [
       "100"
      ]
     },
     "execution_count": 1,
     "metadata": {},
     "output_type": "execute_result"
    }
   ],
   "source": [
    "10*10"
   ]
  },
  {
   "cell_type": "code",
   "execution_count": 4,
   "id": "6f0c0504-90e2-483e-b622-75129fff7954",
   "metadata": {},
   "outputs": [],
   "source": [
    "from numpy import *"
   ]
  },
  {
   "cell_type": "code",
   "execution_count": 5,
   "id": "27bce223-fd78-4f01-9f64-cfce05588d39",
   "metadata": {},
   "outputs": [
    {
     "data": {
      "text/plain": [
       "numpy.ndarray"
      ]
     },
     "execution_count": 5,
     "metadata": {},
     "output_type": "execute_result"
    }
   ],
   "source": [
    "a = array([1., 5.])\n",
    "type(a)"
   ]
  },
  {
   "cell_type": "code",
   "execution_count": null,
   "id": "112a8ec9-4d9b-4ed7-8c62-5e744b36b919",
   "metadata": {},
   "outputs": [],
   "source": []
  }
 ],
 "metadata": {
  "kernelspec": {
   "display_name": "Python 3 (ipykernel)",
   "language": "python",
   "name": "python3"
  },
  "language_info": {
   "codemirror_mode": {
    "name": "ipython",
    "version": 3
   },
   "file_extension": ".py",
   "mimetype": "text/x-python",
   "name": "python",
   "nbconvert_exporter": "python",
   "pygments_lexer": "ipython3",
   "version": "3.12.9"
  }
 },
 "nbformat": 4,
 "nbformat_minor": 5
}
